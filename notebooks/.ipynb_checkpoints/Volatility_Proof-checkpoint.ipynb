{
 "cells": [
  {
   "cell_type": "markdown",
   "id": "aa776f5e",
   "metadata": {},
   "source": [
    "# Volatility Proof — Plots & Tables"
   ]
  },
  {
   "cell_type": "code",
   "execution_count": null,
   "id": "87e8c858",
   "metadata": {},
   "outputs": [],
   "source": [
    "import pandas as pd, matplotlib.pyplot as plt\n",
    "from pathlib import Path\n",
    "df = pd.read_csv('out/volatility_grid.csv')\n",
    "df.head()"
   ]
  },
  {
   "cell_type": "code",
   "execution_count": null,
   "id": "05333d76",
   "metadata": {},
   "outputs": [],
   "source": [
    "g = df.groupby('mechanism')['vol_annualized'].mean().reset_index()\n",
    "plt.figure(); plt.bar(g['mechanism'], g['vol_annualized']); plt.ylabel('Annualized σ'); plt.title('Volatility by Mechanism'); Path('out/plots').mkdir(parents=True, exist_ok=True); plt.tight_layout(); plt.savefig('out/plots/vol_by_mechanism.png', dpi=150); plt.show()"
   ]
  },
  {
   "cell_type": "code",
   "execution_count": null,
   "id": "fbca0dd4",
   "metadata": {},
   "outputs": [],
   "source": [
    "g = df.groupby(['mechanism','delta'])['vol_annualized'].mean().reset_index()\n",
    "for mech in g['mechanism'].unique():\n",
    "    s = g[g['mechanism']==mech]\n",
    "    plt.plot(s['delta'], s['vol_annualized'], marker='o', label=mech)\n",
    "plt.xlabel('Δ (seconds)'); plt.ylabel('Annualized σ'); plt.title('Latency sensitivity');\n",
    "plt.legend(); plt.tight_layout(); plt.savefig('out/plots/latency_sensitivity.png', dpi=150); plt.show()"
   ]
  }
 ],
 "metadata": {},
 "nbformat": 4,
 "nbformat_minor": 5
}
